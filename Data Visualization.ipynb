{
 "cells": [
  {
   "cell_type": "code",
   "execution_count": 1,
   "metadata": {},
   "outputs": [],
   "source": [
    "import numpy as np\n",
    "import pandas as pd\n",
    "import time \n",
    "import datetime as datetime\n",
    "import glob\n",
    "np.random.seed(1)"
   ]
  },
  {
   "cell_type": "code",
   "execution_count": 10,
   "metadata": {},
   "outputs": [
    {
     "name": "stdout",
     "output_type": "stream",
     "text": [
      "TrueFX/EURJPY-2019-03.csv\n",
      "TrueFX/AUDNZD-2019-03.csv\n",
      "TrueFX/GBPJPY-2019-03.csv\n",
      "TrueFX/EURCHF-2019-03.csv\n",
      "TrueFX/GBPUSD-2019-03.csv\n",
      "TrueFX/CADJPY-2019-03.csv\n",
      "TrueFX/CHFJPY-2019-03.csv\n",
      "TrueFX/EURUSD-2019-03.csv\n",
      "TrueFX/AUDJPY-2019-03.csv\n",
      "TrueFX/USDCHF-2019-03.csv\n",
      "TrueFX/AUDUSD-2019-03.csv\n",
      "TrueFX/USDCAD-2019-03.csv\n",
      "TrueFX/NZDUSD-2019-03.csv\n",
      "TrueFX/USDJPY-2019-03.csv\n"
     ]
    }
   ],
   "source": [
    "col_names = [0,1,2,3]\n",
    "onemonth = pd.DataFrame(columns = col_names)\n",
    "for filename in glob.glob(\"TrueFX/*.csv\"):\n",
    "    print(filename)\n",
    "    tmp = pd.read_csv(filename,header=None)\n",
    "    onemonth = onemonth.append(tmp)\n",
    "onemonth = onemonth.rename(index=str, columns={0:'CCY', 1:'Timestep', 2:'Bid', 3: 'Ask'})\n",
    "onemonth.to_csv('TrueFX.csv')"
   ]
  },
  {
   "cell_type": "code",
   "execution_count": 12,
   "metadata": {},
   "outputs": [
    {
     "name": "stdout",
     "output_type": "stream",
     "text": [
      "TickData/LP-3-STRM-3-USDCAD.csv\n",
      "TickData/LP-5-STRM-5-USDCHF.csv\n",
      "TickData/LP-1-STRM-1-USDCAD.csv\n",
      "TickData/LP-5-STRM-5-EURUSD.csv\n",
      "TickData/LP-4-STRM-4-NZDUSD.csv\n",
      "TickData/LP-2-STRM-2-EURUSD.csv\n",
      "TickData/LP-2-STRM-2-USDCHF.csv\n",
      "TickData/LP-4-STRM-4-USDCAD.csv\n",
      "TickData/LP-3-STRM-3-NZDUSD.csv\n",
      "TickData/LP-1-STRM-1-NZDUSD.csv\n",
      "TickData/LP-1-STRM-1-AUDUSD.csv\n",
      "TickData/LP-3-STRM-3-GBPUSD.csv\n",
      "TickData/LP-1-STRM-1-GBPUSD.csv\n",
      "TickData/LP-3-STRM-3-AUDUSD.csv\n",
      "TickData/LP-2-STRM-2-USDJPY.csv\n",
      "TickData/LP-5-STRM-5-USDSEK.csv\n",
      "TickData/LP-4-STRM-4-AUDUSD.csv\n",
      "TickData/LP-4-STRM-4-GBPUSD.csv\n",
      "TickData/LP-2-STRM-2-USDSEK.csv\n",
      "TickData/LP-5-STRM-5-USDJPY.csv\n",
      "TickData/LP-4-STRM-4-USDCHF.csv\n",
      "TickData/LP-2-STRM-2-USDCAD.csv\n",
      "TickData/LP-4-STRM-4-EURUSD.csv\n",
      "TickData/LP-5-STRM-5-NZDUSD.csv\n",
      "TickData/LP-1-STRM-1-USDCHF.csv\n",
      "TickData/LP-3-STRM-3-EURUSD.csv\n",
      "TickData/LP-5-STRM-5-USDCAD.csv\n",
      "TickData/LP-3-STRM-3-USDCHF.csv\n",
      "TickData/LP-1-STRM-1-EURUSD.csv\n",
      "TickData/LP-2-STRM-2-NZDUSD.csv\n",
      "TickData/LP-2-STRM-2-GBPUSD.csv\n",
      "TickData/LP-2-STRM-2-AUDUSD.csv\n",
      "TickData/LP-3-STRM-3-USDJPY.csv\n",
      "TickData/LP-1-STRM-1-USDJPY.csv\n",
      "TickData/LP-4-STRM-4-USDSEK.csv\n",
      "TickData/LP-5-STRM-5-AUDUSD.csv\n",
      "TickData/LP-5-STRM-5-GBPUSD.csv\n",
      "TickData/LP-3-STRM-3-USDSEK.csv\n",
      "TickData/LP-1-STRM-1-USDSEK.csv\n",
      "TickData/LP-4-STRM-4-USDJPY.csv\n"
     ]
    }
   ],
   "source": [
    "name = pd.read_csv('TickData/LP-1-STRM-1-AUDUSD.csv')\n",
    "col_names = list(name.columns.values)\n",
    "LP = pd.DataFrame(columns = col_names)\n",
    "for filename in glob.glob(\"TickData/*.csv\"):\n",
    "    print(filename)\n",
    "    tmp = pd.read_csv(filename)\n",
    "    LP = LP.append(tmp)\n",
    "LP.to_csv('Integral.csv')"
   ]
  },
  {
   "cell_type": "code",
   "execution_count": 15,
   "metadata": {},
   "outputs": [
    {
     "data": {
      "text/html": [
       "<div>\n",
       "<style scoped>\n",
       "    .dataframe tbody tr th:only-of-type {\n",
       "        vertical-align: middle;\n",
       "    }\n",
       "\n",
       "    .dataframe tbody tr th {\n",
       "        vertical-align: top;\n",
       "    }\n",
       "\n",
       "    .dataframe thead th {\n",
       "        text-align: right;\n",
       "    }\n",
       "</style>\n",
       "<table border=\"1\" class=\"dataframe\">\n",
       "  <thead>\n",
       "    <tr style=\"text-align: right;\">\n",
       "      <th></th>\n",
       "      <th>provider</th>\n",
       "      <th>stream</th>\n",
       "      <th>currency pair</th>\n",
       "      <th>time</th>\n",
       "      <th>bid price</th>\n",
       "      <th>bid volume</th>\n",
       "      <th>ask price</th>\n",
       "      <th>ask volume</th>\n",
       "      <th>guid</th>\n",
       "      <th>tier</th>\n",
       "      <th>status</th>\n",
       "      <th>quote type</th>\n",
       "    </tr>\n",
       "  </thead>\n",
       "  <tbody>\n",
       "    <tr>\n",
       "      <th>0</th>\n",
       "      <td>LP-3</td>\n",
       "      <td>STRM-3</td>\n",
       "      <td>USDCAD</td>\n",
       "      <td>02.01.2019 00:00:00.130</td>\n",
       "      <td>1.31266</td>\n",
       "      <td>1000000</td>\n",
       "      <td>1.31278</td>\n",
       "      <td>1000000</td>\n",
       "      <td>G-3c369d52-168a65ae082-LP-3Z-9a914</td>\n",
       "      <td>1</td>\n",
       "      <td>Active</td>\n",
       "      <td>MQ</td>\n",
       "    </tr>\n",
       "    <tr>\n",
       "      <th>1</th>\n",
       "      <td>LP-3</td>\n",
       "      <td>STRM-3</td>\n",
       "      <td>USDCAD</td>\n",
       "      <td>02.01.2019 00:00:00.130</td>\n",
       "      <td>1.31267</td>\n",
       "      <td>1000000</td>\n",
       "      <td>1.31278</td>\n",
       "      <td>1000000</td>\n",
       "      <td>G-3c369d52-168a65ae082-LP-3Z-9a915</td>\n",
       "      <td>1</td>\n",
       "      <td>Active</td>\n",
       "      <td>MQ</td>\n",
       "    </tr>\n",
       "    <tr>\n",
       "      <th>2</th>\n",
       "      <td>LP-3</td>\n",
       "      <td>STRM-3</td>\n",
       "      <td>USDCAD</td>\n",
       "      <td>02.01.2019 00:00:00.150</td>\n",
       "      <td>1.31267</td>\n",
       "      <td>1000000</td>\n",
       "      <td>1.31281</td>\n",
       "      <td>1000000</td>\n",
       "      <td>G-3c369d52-168a65ae096-LP-3Z-9a916</td>\n",
       "      <td>1</td>\n",
       "      <td>Active</td>\n",
       "      <td>MQ</td>\n",
       "    </tr>\n",
       "    <tr>\n",
       "      <th>3</th>\n",
       "      <td>LP-3</td>\n",
       "      <td>STRM-3</td>\n",
       "      <td>USDCAD</td>\n",
       "      <td>02.01.2019 00:00:00.150</td>\n",
       "      <td>1.31271</td>\n",
       "      <td>1000000</td>\n",
       "      <td>1.31281</td>\n",
       "      <td>1000000</td>\n",
       "      <td>G-3c369d52-168a65ae096-LP-3Z-9a917</td>\n",
       "      <td>1</td>\n",
       "      <td>Active</td>\n",
       "      <td>MQ</td>\n",
       "    </tr>\n",
       "    <tr>\n",
       "      <th>4</th>\n",
       "      <td>LP-3</td>\n",
       "      <td>STRM-3</td>\n",
       "      <td>USDCAD</td>\n",
       "      <td>02.01.2019 00:00:00.211</td>\n",
       "      <td>1.31270</td>\n",
       "      <td>1000000</td>\n",
       "      <td>1.31281</td>\n",
       "      <td>1000000</td>\n",
       "      <td>G-3c369d52-168a65ae0d3-LP-3Z-9a918</td>\n",
       "      <td>1</td>\n",
       "      <td>Active</td>\n",
       "      <td>MQ</td>\n",
       "    </tr>\n",
       "  </tbody>\n",
       "</table>\n",
       "</div>"
      ],
      "text/plain": [
       "  provider  stream currency pair                     time  bid price  \\\n",
       "0     LP-3  STRM-3        USDCAD  02.01.2019 00:00:00.130    1.31266   \n",
       "1     LP-3  STRM-3        USDCAD  02.01.2019 00:00:00.130    1.31267   \n",
       "2     LP-3  STRM-3        USDCAD  02.01.2019 00:00:00.150    1.31267   \n",
       "3     LP-3  STRM-3        USDCAD  02.01.2019 00:00:00.150    1.31271   \n",
       "4     LP-3  STRM-3        USDCAD  02.01.2019 00:00:00.211    1.31270   \n",
       "\n",
       "  bid volume  ask price ask volume                                guid tier  \\\n",
       "0    1000000    1.31278    1000000  G-3c369d52-168a65ae082-LP-3Z-9a914    1   \n",
       "1    1000000    1.31278    1000000  G-3c369d52-168a65ae082-LP-3Z-9a915    1   \n",
       "2    1000000    1.31281    1000000  G-3c369d52-168a65ae096-LP-3Z-9a916    1   \n",
       "3    1000000    1.31281    1000000  G-3c369d52-168a65ae096-LP-3Z-9a917    1   \n",
       "4    1000000    1.31281    1000000  G-3c369d52-168a65ae0d3-LP-3Z-9a918    1   \n",
       "\n",
       "   status quote type  \n",
       "0  Active         MQ  \n",
       "1  Active         MQ  \n",
       "2  Active         MQ  \n",
       "3  Active         MQ  \n",
       "4  Active         MQ  "
      ]
     },
     "execution_count": 15,
     "metadata": {},
     "output_type": "execute_result"
    }
   ],
   "source": [
    "LP.head()"
   ]
  },
  {
   "cell_type": "code",
   "execution_count": 18,
   "metadata": {},
   "outputs": [
    {
     "data": {
      "text/plain": [
       "str"
      ]
     },
     "execution_count": 18,
     "metadata": {},
     "output_type": "execute_result"
    }
   ],
   "source": [
    "type(LP['time'].iloc[1])"
   ]
  },
  {
   "cell_type": "code",
   "execution_count": null,
   "metadata": {},
   "outputs": [],
   "source": []
  }
 ],
 "metadata": {
  "kernelspec": {
   "display_name": "Python 3",
   "language": "python",
   "name": "python3"
  },
  "language_info": {
   "codemirror_mode": {
    "name": "ipython",
    "version": 3
   },
   "file_extension": ".py",
   "mimetype": "text/x-python",
   "name": "python",
   "nbconvert_exporter": "python",
   "pygments_lexer": "ipython3",
   "version": "3.6.8"
  },
  "toc": {
   "base_numbering": 1,
   "nav_menu": {},
   "number_sections": true,
   "sideBar": true,
   "skip_h1_title": false,
   "title_cell": "Table of Contents",
   "title_sidebar": "Contents",
   "toc_cell": false,
   "toc_position": {},
   "toc_section_display": true,
   "toc_window_display": false
  }
 },
 "nbformat": 4,
 "nbformat_minor": 2
}
